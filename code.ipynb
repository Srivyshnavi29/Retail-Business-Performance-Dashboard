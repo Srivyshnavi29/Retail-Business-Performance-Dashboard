{
 "cells": [
  {
   "cell_type": "code",
   "execution_count": 1,
   "id": "3ebb0476",
   "metadata": {},
   "outputs": [
    {
     "name": "stdout",
     "output_type": "stream",
     "text": [
      "        Date    Store      Department Region  Weekly_Sales  Transactions\n",
      "0 2023-01-01  Store_1     Electronics  North      22483.57           206\n",
      "1 2023-01-01  Store_1        Clothing  North      19308.68           171\n",
      "2 2023-01-01  Store_1       Groceries   East      14440.60           314\n",
      "3 2023-01-01  Store_1  Home & Kitchen  South      21594.51           430\n",
      "4 2023-01-01  Store_1            Toys  South       9945.19           459\n",
      "<class 'pandas.core.frame.DataFrame'>\n",
      "RangeIndex: 2625 entries, 0 to 2624\n",
      "Data columns (total 6 columns):\n",
      " #   Column        Non-Null Count  Dtype         \n",
      "---  ------        --------------  -----         \n",
      " 0   Date          2625 non-null   datetime64[ns]\n",
      " 1   Store         2625 non-null   object        \n",
      " 2   Department    2625 non-null   object        \n",
      " 3   Region        2625 non-null   object        \n",
      " 4   Weekly_Sales  2625 non-null   float64       \n",
      " 5   Transactions  2625 non-null   int64         \n",
      "dtypes: datetime64[ns](1), float64(1), int64(1), object(3)\n",
      "memory usage: 123.2+ KB\n",
      "None\n"
     ]
    }
   ],
   "source": [
    "import pandas as pd\n",
    "\n",
    "# Load the dataset\n",
    "df = pd.read_excel(\"Retail_Business_Performance_Data.xlsx\")\n",
    "\n",
    "# Preview the data\n",
    "print(df.head())\n",
    "print(df.info())\n"
   ]
  },
  {
   "cell_type": "code",
   "execution_count": 2,
   "id": "ff61ad53",
   "metadata": {},
   "outputs": [],
   "source": [
    "# Convert Date column to datetime\n",
    "df['Date'] = pd.to_datetime(df['Date'])\n",
    "\n",
    "# Add new date-based columns\n",
    "df['Year'] = df['Date'].dt.year\n",
    "df['Month'] = df['Date'].dt.month\n",
    "df['Week'] = df['Date'].dt.isocalendar().week\n",
    "df['Revenue_per_Transaction'] = df['Weekly_Sales'] / df['Transactions']\n"
   ]
  },
  {
   "cell_type": "code",
   "execution_count": 3,
   "id": "de860eb1",
   "metadata": {},
   "outputs": [
    {
     "name": "stdout",
     "output_type": "stream",
     "text": [
      "✅ Cleaned dataset saved for Power BI.\n",
      "Data cleaning and transformation complete.\n"
     ]
    }
   ],
   "source": [
    "df.to_excel(\"Cleaned_Retail_Data.xlsx\", index=False)\n",
    "print(\"✅ Cleaned dataset saved for Power BI.\")\n",
    "# Save the cleaned dataset to a new Excel file\n",
    "print(\"Data cleaning and transformation complete.\")"
   ]
  }
 ],
 "metadata": {
  "kernelspec": {
   "display_name": "Python 3",
   "language": "python",
   "name": "python3"
  },
  "language_info": {
   "codemirror_mode": {
    "name": "ipython",
    "version": 3
   },
   "file_extension": ".py",
   "mimetype": "text/x-python",
   "name": "python",
   "nbconvert_exporter": "python",
   "pygments_lexer": "ipython3",
   "version": "3.13.3"
  }
 },
 "nbformat": 4,
 "nbformat_minor": 5
}
